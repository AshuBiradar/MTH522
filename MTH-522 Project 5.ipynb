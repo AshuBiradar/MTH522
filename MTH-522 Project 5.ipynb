{
 "cells": [
  {
   "cell_type": "code",
   "execution_count": 9,
   "id": "a021802a-b2ad-4681-a57f-a222334a90ac",
   "metadata": {},
   "outputs": [
    {
     "name": "stdout",
     "output_type": "stream",
     "text": [
      "Accuracy for k=1: 0.8341013824884793\n",
      "Fraction of correctly classified 2023 locations for k=1: 0.8341013824884793\n",
      "Accuracy for k=3: 0.8341013824884793\n",
      "Fraction of correctly classified 2023 locations for k=3: 0.8341013824884793\n",
      "Accuracy for k=5: 0.8341013824884793\n",
      "Fraction of correctly classified 2023 locations for k=5: 0.8341013824884793\n",
      "Accuracy for k=7: 0.8341013824884793\n",
      "Fraction of correctly classified 2023 locations for k=7: 0.8341013824884793\n",
      "Accuracy for k=9: 0.8341013824884793\n",
      "Fraction of correctly classified 2023 locations for k=9: 0.8341013824884793\n"
     ]
    }
   ],
   "source": [
    "import pandas as pd\n",
    "import numpy as np\n",
    "from sklearn.model_selection import train_test_split\n",
    "from sklearn.preprocessing import StandardScaler\n",
    "from sklearn.metrics import accuracy_score\n",
    "\n",
    "# Load data from Excel file\n",
    "file_path = r\"C:\\Users\\ashwi\\Downloads\\us-violence-brief-1.xls\"\n",
    "data = pd.read_excel(file_path)\n",
    "\n",
    "# Preprocessing data\n",
    "# Convert dates to datetime and drop original date columns\n",
    "data['date'] = pd.to_datetime(data[['year', 'month', 'day']])\n",
    "data.drop(['year', 'month', 'day'], axis=1, inplace=True)\n",
    "\n",
    "# Scale latitude and longitude\n",
    "scaler = StandardScaler()\n",
    "data[['latitude', 'longitude']] = scaler.fit_transform(data[['latitude', 'longitude']])\n",
    "\n",
    "# Convert datetime to timestamp (int64) in seconds\n",
    "data['timestamp'] = data['date'].astype('int64') // 10**9  \n",
    "\n",
    "# Split data into training and testing sets based on year\n",
    "train_data = data[data['date'].dt.year < 2023]\n",
    "test_data = data[data['date'].dt.year == 2023]\n",
    "\n",
    "# Define distance function (Euclidean distance)\n",
    "def euclidean_distance(x1, x2):\n",
    "    coords_1 = np.array([x1['latitude'], x1['longitude'], x1['timestamp']])\n",
    "    coords_2 = np.array([x2['latitude'], x2['longitude'], x2['timestamp']])\n",
    "    return np.sqrt(np.sum((coords_1 - coords_2) ** 2))\n",
    "\n",
    "# Implement KNN algorithm\n",
    "def knn(train_data, test_data, k):\n",
    "    predictions = []\n",
    "    for _, test_row in test_data.iterrows():\n",
    "        # Calculate distances to each training point\n",
    "        distances = [\n",
    "            (euclidean_distance(test_row, train_row), train_row['fatalities'])\n",
    "            for _, train_row in train_data.iterrows()\n",
    "        ]\n",
    "        \n",
    "        # Get the k nearest neighbors\n",
    "        neighbors = sorted(distances, key=lambda x: x[0])[:k]\n",
    "        \n",
    "        # Count occurrences in the k nearest neighbors and predict the most common class\n",
    "        counts = np.bincount([int(neighbor[1]) for neighbor in neighbors], minlength=2)\n",
    "        prediction = np.argmax(counts)\n",
    "        predictions.append(prediction)\n",
    "    return predictions\n",
    "\n",
    "# Choose odd values of k for KNN\n",
    "k_values = [1, 3, 5, 7, 9]\n",
    "\n",
    "# Evaluate KNN for each k value\n",
    "for k in k_values:\n",
    "    predictions = knn(train_data, test_data, k)\n",
    "    accuracy = accuracy_score(test_data['fatalities'], predictions)\n",
    "    print(f\"Accuracy for k={k}: {accuracy:}\")\n",
    "    \n",
    "    # Calculate fraction of correctly classified 2023 locations\n",
    "    correctly_classified = sum(pred == true for pred, true in zip(predictions, test_data['fatalities']))\n",
    "    fraction_correctly_classified = correctly_classified / len(test_data)\n",
    "    print(f\"Fraction of correctly classified 2023 locations for k={k}: {fraction_correctly_classified:}\")\n"
   ]
  },
  {
   "cell_type": "code",
   "execution_count": null,
   "id": "6f62b245-37ef-4498-8176-8c88194e242b",
   "metadata": {},
   "outputs": [],
   "source": []
  }
 ],
 "metadata": {
  "kernelspec": {
   "display_name": "Python 3 (ipykernel)",
   "language": "python",
   "name": "python3"
  },
  "language_info": {
   "codemirror_mode": {
    "name": "ipython",
    "version": 3
   },
   "file_extension": ".py",
   "mimetype": "text/x-python",
   "name": "python",
   "nbconvert_exporter": "python",
   "pygments_lexer": "ipython3",
   "version": "3.12.4"
  }
 },
 "nbformat": 4,
 "nbformat_minor": 5
}
