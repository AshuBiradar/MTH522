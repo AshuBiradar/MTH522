{
 "cells": [
  {
   "cell_type": "code",
   "execution_count": 17,
   "id": "ca071a25-700e-4a19-b098-3fbb3243c7a1",
   "metadata": {},
   "outputs": [
    {
     "name": "stdout",
     "output_type": "stream",
     "text": [
      "Accuracy: 0.9545454545454546\n"
     ]
    }
   ],
   "source": [
    "import pandas as pd\n",
    "from sklearn.model_selection import train_test_split, GridSearchCV\n",
    "from sklearn.linear_model import LogisticRegression\n",
    "from sklearn.metrics import accuracy_score\n",
    "from sklearn.preprocessing import OneHotEncoder, StandardScaler\n",
    "from sklearn.impute import SimpleImputer\n",
    "\n",
    "# Load the dataset\n",
    "file_path = \"C:\\\\Users\\\\ashwi\\\\Downloads\\\\Preliminary college year.xlsx\"\n",
    "df = pd.read_excel(file_path)\n",
    "\n",
    "# Remove rows with missing target variable\n",
    "df.dropna(subset=['Retained F17-F18? (1=yes, 0=no)'], inplace=True)\n",
    "\n",
    "# Drop unnecessary columns\n",
    "columns_to_drop = ['Federal Ethnic Group','Gender','Reason for not Completing Connect', 'Reason not Retained']\n",
    "df.drop(columns=columns_to_drop, inplace=True)\n",
    "\n",
    "# Define predictor variables (V) and target variable (TV)\n",
    "V = df.drop(columns=['Retained F17-F18? (1=yes, 0=no)'])\n",
    "TV = df['Retained F17-F18? (1=yes, 0=no)']\n",
    "\n",
    "# Perform one-hot encoding for categorical variables\n",
    "categorical_cols = V.select_dtypes(include=['object']).columns\n",
    "V_encoded = pd.get_dummies(V, columns=categorical_cols, drop_first=True)\n",
    "\n",
    "# Impute missing values\n",
    "imputer = SimpleImputer(strategy='mean')\n",
    "V_imputed = pd.DataFrame(imputer.fit_transform(V_encoded), columns=V_encoded.columns)\n",
    "\n",
    "# Scale the features\n",
    "scaler = StandardScaler()\n",
    "V_scaled = scaler.fit_transform(V_imputed)\n",
    "\n",
    "# Split the data into training and testing sets\n",
    "V_train, V_test, TV_train, TV_test = train_test_split(V_scaled, TV, test_size=0.2, random_state=42)\n",
    "\n",
    "# Define pipeline with preprocessor and logistic regression model\n",
    "pipeline = Pipeline(steps=[\n",
    "    ('preprocessor', preprocessor),\n",
    "    ('classifier', LogisticRegression(solver='liblinear', max_iter=1000, random_state=42))\n",
    "])\n",
    "\n",
    "# Define hyperparameters for logistic regression\n",
    "param_grid = {\n",
    "    'C': [0.001, 0.01, 0.1, 1, 10, 100],\n",
    "    'penalty': ['l1', 'l2']\n",
    "}\n",
    "\n",
    "# Train logistic regression model with hyperparameter tuning\n",
    "logistic_model = LogisticRegression(solver='liblinear', max_iter=1000, random_state=42)\n",
    "\n",
    "# Define hyperparameters for grid search, allowing both 'l1' and 'l2' penalties\n",
    "param_grid = {\n",
    "    'C': [0.001, 0.01, 0.1, 1, 10, 100],\n",
    "    'penalty': ['l1', 'l2']\n",
    "}\n",
    "\n",
    "# Train logistic regression model with hyperparameter tuning\n",
    "grid_search = GridSearchCV(logistic_model, param_grid, cv=5, scoring='accuracy', n_jobs=-1)\n",
    "grid_search.fit(V_train, TV_train)\n",
    "\n",
    "# Get the best model from the grid search\n",
    "best_logistic_model = grid_search.best_estimator_\n",
    "\n",
    "# Predict target variable for the testing set\n",
    "TV_pred = best_logistic_model.predict(V_test)\n",
    "\n",
    "# Calculate accuracy\n",
    "accuracy = accuracy_score(TV_test, TV_pred)\n",
    "print(\"Accuracy:\", accuracy)"
   ]
  }
 ],
 "metadata": {
  "kernelspec": {
   "display_name": "Python 3 (ipykernel)",
   "language": "python",
   "name": "python3"
  },
  "language_info": {
   "codemirror_mode": {
    "name": "ipython",
    "version": 3
   },
   "file_extension": ".py",
   "mimetype": "text/x-python",
   "name": "python",
   "nbconvert_exporter": "python",
   "pygments_lexer": "ipython3",
   "version": "3.12.4"
  }
 },
 "nbformat": 4,
 "nbformat_minor": 5
}
