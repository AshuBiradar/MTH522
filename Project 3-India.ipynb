{
 "cells": [
  {
   "cell_type": "code",
   "execution_count": 3,
   "id": "3ac5278a-2ea4-489c-9a43-a9b4cd3be868",
   "metadata": {},
   "outputs": [
    {
     "name": "stdout",
     "output_type": "stream",
     "text": [
      "Collecting geopy\n",
      "  Downloading geopy-2.4.1-py3-none-any.whl.metadata (6.8 kB)\n",
      "Collecting geographiclib<3,>=1.52 (from geopy)\n",
      "  Downloading geographiclib-2.0-py3-none-any.whl.metadata (1.4 kB)\n",
      "Downloading geopy-2.4.1-py3-none-any.whl (125 kB)\n",
      "   ---------------------------------------- 0.0/125.4 kB ? eta -:--:--\n",
      "   --- ------------------------------------ 10.2/125.4 kB ? eta -:--:--\n",
      "   ------ -------------------------------- 20.5/125.4 kB 640.0 kB/s eta 0:00:01\n",
      "   ---------------------------------------  122.9/125.4 kB 1.4 MB/s eta 0:00:01\n",
      "   ---------------------------------------- 125.4/125.4 kB 1.1 MB/s eta 0:00:00\n",
      "Downloading geographiclib-2.0-py3-none-any.whl (40 kB)\n",
      "   ---------------------------------------- 0.0/40.3 kB ? eta -:--:--\n",
      "   ---------------------------------------- 40.3/40.3 kB ? eta 0:00:00\n",
      "Installing collected packages: geographiclib, geopy\n",
      "Successfully installed geographiclib-2.0 geopy-2.4.1\n"
     ]
    }
   ],
   "source": [
    "!pip install geopy\n"
   ]
  },
  {
   "cell_type": "code",
   "execution_count": 11,
   "id": "134ae3aa-7183-4856-ae29-6935d9545b6e",
   "metadata": {},
   "outputs": [
    {
     "name": "stdout",
     "output_type": "stream",
     "text": [
      "Collecting folium\n",
      "  Downloading folium-0.18.0-py2.py3-none-any.whl.metadata (3.8 kB)\n",
      "Collecting branca>=0.6.0 (from folium)\n",
      "  Downloading branca-0.8.0-py3-none-any.whl.metadata (1.5 kB)\n",
      "Requirement already satisfied: jinja2>=2.9 in c:\\users\\ashwi\\anaconda3\\lib\\site-packages (from folium) (3.1.4)\n",
      "Requirement already satisfied: numpy in c:\\users\\ashwi\\anaconda3\\lib\\site-packages (from folium) (1.26.4)\n",
      "Requirement already satisfied: requests in c:\\users\\ashwi\\anaconda3\\lib\\site-packages (from folium) (2.32.2)\n",
      "Requirement already satisfied: xyzservices in c:\\users\\ashwi\\anaconda3\\lib\\site-packages (from folium) (2022.9.0)\n",
      "Requirement already satisfied: MarkupSafe>=2.0 in c:\\users\\ashwi\\anaconda3\\lib\\site-packages (from jinja2>=2.9->folium) (2.1.3)\n",
      "Requirement already satisfied: charset-normalizer<4,>=2 in c:\\users\\ashwi\\anaconda3\\lib\\site-packages (from requests->folium) (2.0.4)\n",
      "Requirement already satisfied: idna<4,>=2.5 in c:\\users\\ashwi\\anaconda3\\lib\\site-packages (from requests->folium) (3.7)\n",
      "Requirement already satisfied: urllib3<3,>=1.21.1 in c:\\users\\ashwi\\anaconda3\\lib\\site-packages (from requests->folium) (2.2.2)\n",
      "Requirement already satisfied: certifi>=2017.4.17 in c:\\users\\ashwi\\anaconda3\\lib\\site-packages (from requests->folium) (2024.8.30)\n",
      "Downloading folium-0.18.0-py2.py3-none-any.whl (108 kB)\n",
      "   ---------------------------------------- 0.0/108.9 kB ? eta -:--:--\n",
      "   ------- -------------------------------- 20.5/108.9 kB ? eta -:--:--\n",
      "   ------------------------------------- -- 102.4/108.9 kB 2.0 MB/s eta 0:00:01\n",
      "   ---------------------------------------- 108.9/108.9 kB 1.2 MB/s eta 0:00:00\n",
      "Downloading branca-0.8.0-py3-none-any.whl (25 kB)\n",
      "Installing collected packages: branca, folium\n",
      "Successfully installed branca-0.8.0 folium-0.18.0\n"
     ]
    }
   ],
   "source": [
    "!pip install folium"
   ]
  },
  {
   "cell_type": "code",
   "execution_count": 21,
   "id": "64739351-f905-4640-9052-99dd5b4e1ab9",
   "metadata": {},
   "outputs": [
    {
     "name": "stdout",
     "output_type": "stream",
     "text": [
      "Cluster map saved as 'cluster_map.html'\n",
      "Number of incidents in each cluster:\n",
      "cluster\n",
      "1    11162\n",
      "0    10079\n",
      "2     8012\n",
      "3     7130\n",
      "Name: count, dtype: int64\n"
     ]
    },
    {
     "ename": "NameError",
     "evalue": "name 'map_clusters' is not defined",
     "output_type": "error",
     "traceback": [
      "\u001b[1;31m---------------------------------------------------------------------------\u001b[0m",
      "\u001b[1;31mNameError\u001b[0m                                 Traceback (most recent call last)",
      "Cell \u001b[1;32mIn[21], line 66\u001b[0m\n\u001b[0;32m     63\u001b[0m     main(\u001b[38;5;124mr\u001b[39m\u001b[38;5;124m\"\u001b[39m\u001b[38;5;124mC:\u001b[39m\u001b[38;5;124m\\\u001b[39m\u001b[38;5;124mUsers\u001b[39m\u001b[38;5;124m\\\u001b[39m\u001b[38;5;124mashwi\u001b[39m\u001b[38;5;124m\\\u001b[39m\u001b[38;5;124mDownloads\u001b[39m\u001b[38;5;124m\\\u001b[39m\u001b[38;5;124mIndiaPoliticalViolence(no Islands_Kashmir_Ladakh).csv\u001b[39m\u001b[38;5;124m\"\u001b[39m)\n\u001b[0;32m     65\u001b[0m \u001b[38;5;66;03m# Save the map as an HTML file\u001b[39;00m\n\u001b[1;32m---> 66\u001b[0m map_clusters\u001b[38;5;241m.\u001b[39msave(\u001b[38;5;124m\"\u001b[39m\u001b[38;5;124mcluster_map2.html\u001b[39m\u001b[38;5;124m\"\u001b[39m)\n\u001b[0;32m     68\u001b[0m \u001b[38;5;66;03m# Display the map\u001b[39;00m\n\u001b[0;32m     69\u001b[0m map_clusters\n",
      "\u001b[1;31mNameError\u001b[0m: name 'map_clusters' is not defined"
     ]
    }
   ],
   "source": [
    "import pandas as pd\n",
    "from sklearn.cluster import KMeans\n",
    "from geopy.distance import geodesic\n",
    "import folium\n",
    "\n",
    "# Function to load and prepare the dataset\n",
    "def load_data(filepath):\n",
    "    dataset = pd.read_csv(filepath)\n",
    "    return dataset[['latitude', 'longitude']]\n",
    "\n",
    "# Function to initialize and fit the KMeans model\n",
    "def cluster_data(features, num_clusters=4):\n",
    "    kmeans_model = KMeans(n_clusters=num_clusters)\n",
    "    kmeans_model.fit(features)\n",
    "    return kmeans_model.labels_, kmeans_model\n",
    "\n",
    "# Function to add cluster labels and count incidents per cluster\n",
    "def add_cluster_info(dataset, cluster_labels):\n",
    "    dataset['cluster'] = cluster_labels\n",
    "    return dataset, dataset['cluster'].value_counts().to_dict()\n",
    "\n",
    "# Function to create and save the folium map with clusters\n",
    "def create_map(dataset, cluster_counts, map_center, output_file=\"cluster_map.html\"):\n",
    "    colors = ['red', 'black', 'pink', 'green']\n",
    "    map_clusters = folium.Map(location=map_center, zoom_start=5)\n",
    "\n",
    "    for _, row in dataset.iterrows():\n",
    "        folium.CircleMarker(\n",
    "            location=[row['latitude'], row['longitude']],\n",
    "            radius=5,\n",
    "            color=colors[row['cluster']],\n",
    "            fill=True,\n",
    "            fill_color=colors[row['cluster']],\n",
    "            fill_opacity=0.7,\n",
    "            popup=f\"Cluster: {row['cluster']}<br>Incidents: {cluster_counts[row['cluster']]}\",\n",
    "        ).add_to(map_clusters)\n",
    "\n",
    "    map_clusters.save(output_file)\n",
    "    return map_clusters\n",
    "\n",
    "# Main function to run the process\n",
    "def main(filepath):\n",
    "    # Load and prepare data\n",
    "    features = load_data(filepath)\n",
    "    \n",
    "    # Cluster data\n",
    "    cluster_labels, kmeans_model = cluster_data(features)\n",
    "    \n",
    "    # Add cluster labels to dataset and calculate cluster incident counts\n",
    "    dataset, cluster_counts = add_cluster_info(pd.read_csv(filepath), cluster_labels)\n",
    "    \n",
    "    # Define map center and create the map\n",
    "    map_center = [dataset['latitude'].mean(), dataset['longitude'].mean()]\n",
    "    cluster_map = create_map(dataset, cluster_counts, map_center)\n",
    "    \n",
    "    # Print the cluster map and cluster counts\n",
    "    print(\"Cluster map saved as 'cluster_map.html'\")\n",
    "    print(\"Number of incidents in each cluster:\")\n",
    "    print(dataset['cluster'].value_counts())\n",
    "\n",
    "# Run the main function with file path\n",
    "if __name__ == \"__main__\":\n",
    "    main(r\"C:\\Users\\ashwi\\Downloads\\IndiaPoliticalViolence(no Islands_Kashmir_Ladakh).csv\")\n"
   ]
  },
  {
   "cell_type": "code",
   "execution_count": null,
   "id": "13facef4-a966-4302-b4dd-805991ea8191",
   "metadata": {},
   "outputs": [],
   "source": []
  }
 ],
 "metadata": {
  "kernelspec": {
   "display_name": "Python 3 (ipykernel)",
   "language": "python",
   "name": "python3"
  },
  "language_info": {
   "codemirror_mode": {
    "name": "ipython",
    "version": 3
   },
   "file_extension": ".py",
   "mimetype": "text/x-python",
   "name": "python",
   "nbconvert_exporter": "python",
   "pygments_lexer": "ipython3",
   "version": "3.12.4"
  }
 },
 "nbformat": 4,
 "nbformat_minor": 5
}
